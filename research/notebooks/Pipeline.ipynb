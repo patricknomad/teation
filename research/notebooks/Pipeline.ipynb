{
 "cells": [
  {
   "attachments": {},
   "cell_type": "markdown",
   "id": "2b44f658",
   "metadata": {},
   "source": [
    "# Pipeline Testing\n",
    "\n",
    "If running in Google Colab, see [notes about enabling GPU](https://docs.haystack.deepset.ai/docs/enabling-gpu-acceleration#enabling-the-gpu-in-colab)."
   ]
  },
  {
   "attachments": {},
   "cell_type": "markdown",
   "id": "800b2fd8-ad78-45ff-913f-2774461c2661",
   "metadata": {
    "tags": []
   },
   "source": [
    "# Configure Logging"
   ]
  },
  {
   "cell_type": "code",
   "execution_count": 1,
   "id": "956ababa-aa97-4352-8a94-c92e733e53b9",
   "metadata": {},
   "outputs": [],
   "source": [
    "import logging\n",
    "\n",
    "logging.basicConfig(format=\"%(levelname)s - %(name)s -  %(message)s\", level=logging.WARNING)\n",
    "logging.getLogger(\"haystack\").setLevel(logging.INFO)"
   ]
  },
  {
   "cell_type": "markdown",
   "id": "0ca7716c-e6c9-4c48-97dc-8f9abaf70175",
   "metadata": {},
   "source": [
    "# Configure Haystack"
   ]
  },
  {
   "cell_type": "code",
   "execution_count": null,
   "id": "e5fcdf4c-edb9-43da-89cb-6babd685c156",
   "metadata": {},
   "outputs": [],
   "source": [
    "import os\n",
    "from haystack.telemetry import disable_telemetry\n",
    "disable_telemetry()\n",
    "os.environ[\"TOKENIZERS_PARALLELISM\"] = \"false\""
   ]
  },
  {
   "cell_type": "markdown",
   "id": "7acbd893-268b-41d8-9bd1-d1f03753d84a",
   "metadata": {
    "tags": []
   },
   "source": [
    "# Document Store"
   ]
  },
  {
   "cell_type": "code",
   "execution_count": 3,
   "id": "3a3ec016-8215-47e4-9aa9-3c12be3d7ab2",
   "metadata": {
    "tags": []
   },
   "outputs": [],
   "source": [
    "# Start a local Elasticsearch server\n",
    "from haystack.utils import launch_es\n",
    "launch_es()"
   ]
  },
  {
   "cell_type": "code",
   "execution_count": null,
   "id": "9aae4a68-a052-4a50-a02a-b46401cf15ad",
   "metadata": {},
   "outputs": [],
   "source": [
    "import os\n",
    "from haystack.document_stores import ElasticsearchDocumentStore\n",
    "\n",
    "document_store = ElasticsearchDocumentStore(host=\"localhost\", username=\"\", password=\"\", index=\"document\")"
   ]
  },
  {
   "attachments": {},
   "cell_type": "markdown",
   "id": "cfdd0b7f-aafd-405d-8daf-af7262a63f57",
   "metadata": {
    "tags": []
   },
   "source": [
    "# Preprocessing"
   ]
  },
  {
   "cell_type": "code",
   "execution_count": null,
   "id": "2539d631-df67-41ec-a71c-675bc575d785",
   "metadata": {},
   "outputs": [],
   "source": [
    "import pandas as pd\n",
    "\n",
    "# Load CSV data into DataFrame\n",
    "file_path = \"../data/segments-200.csv\"\n",
    "df = pd.read_csv(file_path)\n",
    "\n",
    "# Cleanup:\n",
    "\n",
    "# Fill empty values with \"\"\n",
    "df.fillna(value=\"\", inplace=True)\n",
    "# Strip whitespaces from start/end of the segment text\n",
    "df[\"text\"] = df[\"text\"].apply(lambda x: x.strip())\n",
    "# Rename column \"text\" to \"content\" for document store\n",
    "df = df.rename(columns={\"text\": \"content\"})\n",
    "\n",
    "# print(df.head())\n",
    "print(df.count)"
   ]
  },
  {
   "cell_type": "code",
   "execution_count": 6,
   "id": "3231261b-e466-4897-9368-d2d9ae258ab7",
   "metadata": {
    "tags": []
   },
   "outputs": [],
   "source": [
    "docs = df.to_dict(orient=\"records\")\n",
    "\n",
    "from pprint import pprint\n",
    "# pprint(docs[:3])"
   ]
  },
  {
   "cell_type": "markdown",
   "id": "f1489602-d77d-41c3-ba30-3db3338ebb3d",
   "metadata": {},
   "source": [
    "# Write documents"
   ]
  },
  {
   "cell_type": "code",
   "execution_count": 7,
   "id": "dc9803f2-3a86-4c88-b9b1-306b7973cfe9",
   "metadata": {
    "tags": []
   },
   "outputs": [],
   "source": [
    "# docs = docs[:100] # max for testing\n",
    "document_store.delete_documents()\n",
    "document_store.write_documents(docs)"
   ]
  },
  {
   "cell_type": "markdown",
   "id": "1ae35155-d6d6-481e-b60c-7bb318b7042f",
   "metadata": {},
   "source": [
    "# Initialize Retriever and Reader\n",
    "\n",
    "## Retriever"
   ]
  },
  {
   "cell_type": "code",
   "execution_count": 8,
   "id": "6b3b1981-7434-4d94-85d7-5cc968a02c09",
   "metadata": {},
   "outputs": [],
   "source": [
    "from haystack.nodes import BM25Retriever\n",
    "retriever = BM25Retriever(document_store=document_store)"
   ]
  },
  {
   "attachments": {},
   "cell_type": "markdown",
   "id": "bf330a06-dc31-4e4d-b66e-51d9454629f7",
   "metadata": {},
   "source": [
    "## Reader\n",
    "\n",
    "### FARMReader"
   ]
  },
  {
   "cell_type": "code",
   "execution_count": null,
   "id": "ad249573-a207-4ba3-bde9-8cf7782160cb",
   "metadata": {},
   "outputs": [],
   "source": [
    "from haystack.nodes import FARMReader\n",
    "reader = FARMReader(model_name_or_path=\"deepset/roberta-base-squad2\")"
   ]
  },
  {
   "cell_type": "markdown",
   "id": "cf3e79d3-c1a8-4793-bc63-4976bfdf6951",
   "metadata": {},
   "source": [
    "### TransformersReader"
   ]
  },
  {
   "cell_type": "code",
   "execution_count": 11,
   "id": "9a26ecc1-73fc-43b9-93f4-aae65f11120b",
   "metadata": {},
   "outputs": [],
   "source": [
    "# from haystack.nodes import TransformersReader\n",
    "# reader = TransformersReader(model_name_or_path=\"distilbert-base-uncased-distilled-squad\", tokenizer=\"distilbert-base-uncased\", use_gpu=-1)"
   ]
  },
  {
   "cell_type": "markdown",
   "id": "b20c3429-264e-431e-b76d-4c9328b9f738",
   "metadata": {},
   "source": [
    "# Pipeline"
   ]
  },
  {
   "cell_type": "code",
   "execution_count": 47,
   "id": "253097bb-5c02-4d92-87c3-57e93d17ad43",
   "metadata": {},
   "outputs": [],
   "source": [
    "from haystack.pipelines import ExtractiveQAPipeline\n",
    "\n",
    "pipe = ExtractiveQAPipeline(reader, retriever)\n",
    "\n",
    "pipe.save_to_yaml(\"../pipelines/Answer.yaml\")"
   ]
  },
  {
   "cell_type": "markdown",
   "id": "3be6e443-db37-4997-9a18-bfeab34a1577",
   "metadata": {},
   "source": [
    "# Query"
   ]
  },
  {
   "cell_type": "code",
   "execution_count": null,
   "id": "0fe82354-2044-4686-9024-14cbc83727a0",
   "metadata": {},
   "outputs": [],
   "source": [
    "query = \"What is the meaning of life?\"\n",
    "retrieverTopK = 10\n",
    "readerTopK = 10\n",
    "prediction = pipe.run(\n",
    "    query=query, params={\n",
    "        \"Retriever\": {\"top_k\": retrieverTopK},\n",
    "        \"Reader\": {\"top_k\": readerTopK}\n",
    "    }\n",
    ")"
   ]
  },
  {
   "cell_type": "code",
   "execution_count": null,
   "id": "dc04167c-e1e9-41d6-b6b7-aa058bfbebee",
   "metadata": {},
   "outputs": [],
   "source": [
    "# from haystack.utils import print_answers\n",
    "\n",
    "# # Change `minimum` to `medium` or `all` to raise the level of detail\n",
    "# print_answers(prediction, details=\"all\")"
   ]
  },
  {
   "cell_type": "code",
   "execution_count": 40,
   "id": "68b11517-3f75-4e56-a8ff-7aab3f1142a8",
   "metadata": {},
   "outputs": [],
   "source": [
    "# Convert prediction dict to JSON and save\n",
    "import json\n",
    "\n",
    "# replace all non alphanumeric characters with a space in query\n",
    "path = \"../outputs/Query/\" + ''.join(e for e in query if e.isalnum() or e.isspace())\n",
    "if not os.path.exists(path):\n",
    "    os.makedirs(path)\n",
    "\n",
    "filename = path + \"/\" + str(retrieverTopK) + \"-\" + str(readerTopK) + \".json\"\n",
    "\n",
    "output_data = prediction\n",
    "if isinstance(output_data, dict):\n",
    "    output_data = [output_data]\n",
    "\n",
    "df = pd.DataFrame(output_data)\n",
    "df.to_json(filename, indent=2)"
   ]
  }
 ],
 "metadata": {
  "kernelspec": {
   "display_name": "Python 3 (ipykernel)",
   "language": "python",
   "name": "python3"
  },
  "language_info": {
   "codemirror_mode": {
    "name": "ipython",
    "version": 3
   },
   "file_extension": ".py",
   "mimetype": "text/x-python",
   "name": "python",
   "nbconvert_exporter": "python",
   "pygments_lexer": "ipython3",
   "version": "3.10.6"
  },
  "vscode": {
   "interpreter": {
    "hash": "ba382882792d2256cf96cffd2b365de8e29a6dbda363f8d43f2fc6a748611037"
   }
  }
 },
 "nbformat": 4,
 "nbformat_minor": 5
}
