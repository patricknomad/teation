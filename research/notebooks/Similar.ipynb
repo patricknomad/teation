{
  "cells": [
    {
      "attachments": {},
      "cell_type": "markdown",
      "metadata": {
        "collapsed": false,
        "id": "dyA6BHcUB_ay"
      },
      "source": [
        "# Similarity Research\n",
        "\n",
        "In this notebook an experiments is conducted in attempt to fine similarities between segments.\n",
        "\n",
        "### Prepare environment\n",
        "\n",
        "#### Colab: Enable the GPU runtime\n",
        "Make sure you enable the GPU runtime to experience decent speed in this tutorial.\n",
        "**Runtime -> Change Runtime type -> Hardware accelerator -> GPU**\n",
        "\n",
        "<img src=\"https://raw.githubusercontent.com/deepset-ai/haystack/main/docs/img/colab_gpu_runtime.jpg\">\n",
        "\n",
        "You can double check whether the GPU runtime is enabled with the following command:"
      ]
    },
    {
      "cell_type": "code",
      "execution_count": null,
      "metadata": {
        "colab": {
          "base_uri": "https://localhost:8080/"
        },
        "id": "fg-XjPKUB_ay",
        "outputId": "5081f65c-5c9e-45ca-89a6-869f271f08b3",
        "pycharm": {
          "name": "#%%\n"
        },
        "vscode": {
          "languageId": "shellscript"
        }
      },
      "outputs": [],
      "source": [
        "%%bash\n",
        "\n",
        "nvidia-smi"
      ]
    },
    {
      "cell_type": "markdown",
      "metadata": {
        "id": "riqFWjYqB_az"
      },
      "source": [
        "To start, install the latest release of Haystack with `pip`:"
      ]
    },
    {
      "cell_type": "code",
      "execution_count": null,
      "metadata": {
        "colab": {
          "base_uri": "https://localhost:8080/"
        },
        "id": "s-krvgHTB_az",
        "outputId": "cfe858f6-3858-440a-a28e-1b068caaac78",
        "vscode": {
          "languageId": "shellscript"
        }
      },
      "outputs": [],
      "source": [
        "%%bash\n",
        "\n",
        "pip install --upgrade pip\n",
        "pip install git+https://github.com/deepset-ai/haystack.git#egg=farm-haystack[colab]"
      ]
    },
    {
      "attachments": {},
      "cell_type": "markdown",
      "metadata": {
        "collapsed": false,
        "id": "24BjL6ffB_a0",
        "pycharm": {
          "name": "#%% md\n"
        }
      },
      "source": [
        "## Logging"
      ]
    },
    {
      "cell_type": "code",
      "execution_count": null,
      "metadata": {
        "id": "cmIEvsUNB_a0",
        "pycharm": {
          "name": "#%%\n"
        }
      },
      "outputs": [],
      "source": [
        "import logging\n",
        "\n",
        "logging.basicConfig(format=\"%(levelname)s - %(name)s -  %(message)s\", level=logging.WARNING)\n",
        "logging.getLogger(\"haystack\").setLevel(logging.INFO)"
      ]
    },
    {
      "attachments": {},
      "cell_type": "markdown",
      "metadata": {
        "id": "w-c0uwJwB_a0"
      },
      "source": [
        "## Document Stor"
      ]
    },
    {
      "cell_type": "code",
      "execution_count": null,
      "metadata": {
        "colab": {
          "base_uri": "https://localhost:8080/"
        },
        "id": "P3muMPQhB_a1",
        "outputId": "7bd0c4d9-660f-4b2c-d0ee-513460dedc8a"
      },
      "outputs": [],
      "source": [
        "from haystack.utils import launch_es\n",
        "\n",
        "launch_es()"
      ]
    },
    {
      "cell_type": "markdown",
      "metadata": {
        "id": "_Xb5GX0TB_a2"
      },
      "source": [
        "### Start an Elasticsearch server in Colab\n",
        "\n",
        "If Docker is not readily available in your environment (e.g. in Colab notebooks), then you can manually download and execute Elasticsearch from source."
      ]
    },
    {
      "cell_type": "code",
      "execution_count": null,
      "metadata": {
        "id": "ntHrMyNWB_a2",
        "vscode": {
          "languageId": "shellscript"
        }
      },
      "outputs": [],
      "source": [
        "%%bash\n",
        "\n",
        "wget https://artifacts.elastic.co/downloads/elasticsearch/elasticsearch-7.9.2-linux-x86_64.tar.gz -q\n",
        "tar -xzf elasticsearch-7.9.2-linux-x86_64.tar.gz\n",
        "chown -R daemon:daemon elasticsearch-7.9.2"
      ]
    },
    {
      "cell_type": "code",
      "execution_count": null,
      "metadata": {
        "id": "OJCTrY0AB_a2",
        "vscode": {
          "languageId": "shellscript"
        }
      },
      "outputs": [],
      "source": [
        "%%bash --bg\n",
        "\n",
        "sudo -u daemon -- elasticsearch-7.9.2/bin/elasticsearch"
      ]
    },
    {
      "attachments": {},
      "cell_type": "markdown",
      "metadata": {
        "id": "7nruTPQAB_a3"
      },
      "source": [
        "### Create the Document Store"
      ]
    },
    {
      "cell_type": "code",
      "execution_count": null,
      "metadata": {
        "id": "y8kwDxtjB_a4"
      },
      "outputs": [],
      "source": [
        "import time\n",
        "time.sleep(30)"
      ]
    },
    {
      "cell_type": "markdown",
      "metadata": {
        "id": "ilx7RYFRB_a5"
      },
      "source": [
        "Finally, we create the Document Store instance:"
      ]
    },
    {
      "cell_type": "code",
      "execution_count": null,
      "metadata": {
        "colab": {
          "base_uri": "https://localhost:8080/"
        },
        "id": "HU3rj4AdB_a5",
        "outputId": "d34c3062-e6a9-4680-b717-eba5b35fcfe6",
        "pycharm": {
          "name": "#%%\n"
        }
      },
      "outputs": [],
      "source": [
        "import os\n",
        "from haystack.document_stores import ElasticsearchDocumentStore\n",
        "\n",
        "# Get the host where Elasticsearch is running, default to localhost\n",
        "host = os.environ.get(\"ELASTICSEARCH_HOST\", \"localhost\")\n",
        "document_store = ElasticsearchDocumentStore(host=host, username=\"\", password=\"\", index=\"document\")"
      ]
    },
    {
      "attachments": {},
      "cell_type": "markdown",
      "metadata": {
        "id": "WT91vlmwB_a6",
        "pycharm": {
          "name": "#%% md\n"
        }
      },
      "source": [
        "## Preprocessing of documents"
      ]
    },
    {
      "cell_type": "code",
      "execution_count": null,
      "metadata": {
        "colab": {
          "base_uri": "https://localhost:8080/"
        },
        "id": "6n8byTOeFuG6",
        "outputId": "db34b04c-72e2-400b-f834-c7d8a3cfdde3"
      },
      "outputs": [],
      "source": [
        "from google.colab import drive\n",
        "drive.mount(\"/content/drive\")"
      ]
    },
    {
      "cell_type": "code",
      "execution_count": null,
      "metadata": {
        "colab": {
          "base_uri": "https://localhost:8080/"
        },
        "id": "OeyCIkwaGsFg",
        "outputId": "93b3d43e-281c-4df0-ac38-8a587567e05f"
      },
      "outputs": [],
      "source": [
        "import pandas as pd\n",
        "file_path = \"drive/MyDrive/Colab Notebooks/data/segemnts.csv\"\n",
        "df = pd.read_csv(file_path)\n",
        "\n",
        "# cleanup\n",
        "df.fillna(value=\"\", inplace=True)\n",
        "df[\"text\"] = df[\"text\"].apply(lambda x: x.strip())\n",
        "df = df.rename(columns={\"text\": \"content\"})\n",
        "print(df.head())\n",
        "print(df.count)"
      ]
    },
    {
      "cell_type": "code",
      "execution_count": null,
      "metadata": {
        "colab": {
          "base_uri": "https://localhost:8080/"
        },
        "id": "KLQbeMHFHFfU",
        "outputId": "8f95004a-9be7-4c1c-936f-b253b1dcc50c"
      },
      "outputs": [],
      "source": [
        "print(df.head())"
      ]
    },
    {
      "cell_type": "code",
      "execution_count": null,
      "metadata": {
        "colab": {
          "base_uri": "https://localhost:8080/"
        },
        "id": "0zakBtiuB_a6",
        "outputId": "a1064632-9cfc-4bdf-a26c-dd589ad4ec18",
        "pycharm": {
          "name": "#%%\n"
        }
      },
      "outputs": [],
      "source": [
        "docs = df.to_dict(orient=\"records\")\n",
        "\n",
        "from pprint import pprint\n",
        "# Let's have a look at the first 3 entries:\n",
        "pprint(docs[:3])"
      ]
    },
    {
      "cell_type": "code",
      "execution_count": null,
      "metadata": {
        "id": "sngtvyvoE_Jl"
      },
      "outputs": [],
      "source": [
        "\n",
        "document_store.write_documents(docs)"
      ]
    },
    {
      "attachments": {},
      "cell_type": "markdown",
      "metadata": {
        "id": "GqgPmrLnB_a7"
      },
      "source": [
        "## Initialize Retriever, Reader & Pipeline\n",
        "\n",
        "### Retriever"
      ]
    },
    {
      "cell_type": "code",
      "execution_count": null,
      "metadata": {
        "id": "uVtUvBuCB_a7"
      },
      "outputs": [],
      "source": [
        "from haystack.nodes import BM25Retriever\n",
        "\n",
        "retriever = BM25Retriever(document_store=document_store)"
      ]
    },
    {
      "cell_type": "code",
      "execution_count": null,
      "metadata": {
        "id": "I5_KSy74B_a7",
        "pycharm": {
          "is_executing": false,
          "name": "#%%\n"
        }
      },
      "outputs": [],
      "source": [
        "# Alternative: An in-memory TfidfRetriever based on Pandas dataframes for building quick-prototypes with SQLite document store.\n",
        "\n",
        "# from haystack.nodes import TfidfRetriever\n",
        "# retriever = TfidfRetriever(document_store=document_store)"
      ]
    },
    {
      "attachments": {},
      "cell_type": "markdown",
      "metadata": {
        "id": "vmJJwxmMB_a8"
      },
      "source": [
        "### Reader\n",
        "\n",
        "#### FARMReader"
      ]
    },
    {
      "cell_type": "code",
      "execution_count": null,
      "metadata": {
        "colab": {
          "base_uri": "https://localhost:8080/",
          "height": 515
        },
        "id": "z0vHKYP1B_a8",
        "outputId": "43f4774a-cef6-4dd6-dd72-7c18f19717df",
        "pycharm": {
          "is_executing": false
        }
      },
      "outputs": [],
      "source": [
        "from haystack.nodes import FARMReader\n",
        "\n",
        "# Load a  local model or any of the QA models on\n",
        "# Hugging Face's model hub (https://huggingface.co/models)\n",
        "\n",
        "reader = FARMReader(model_name_or_path=\"deepset/roberta-base-squad2\", use_gpu=True)"
      ]
    },
    {
      "cell_type": "markdown",
      "metadata": {
        "id": "29KvkWa2B_a8"
      },
      "source": [
        "#### TransformersReader\n",
        "\n",
        "Alternative:"
      ]
    },
    {
      "cell_type": "code",
      "execution_count": null,
      "metadata": {
        "id": "ZBObf4d2B_a8"
      },
      "outputs": [],
      "source": [
        "from haystack.nodes import TransformersReader\n",
        "# reader = TransformersReader(model_name_or_path=\"distilbert-base-uncased-distilled-squad\", tokenizer=\"distilbert-base-uncased\", use_gpu=-1)"
      ]
    },
    {
      "attachments": {},
      "cell_type": "markdown",
      "metadata": {
        "id": "gYCcIpEqB_a9"
      },
      "source": [
        "### Pipeline\n"
      ]
    },
    {
      "cell_type": "code",
      "execution_count": null,
      "metadata": {
        "id": "cQ7mQqDzB_a9",
        "pycharm": {
          "is_executing": false
        }
      },
      "outputs": [],
      "source": [
        "from haystack.pipelines import ExtractiveQAPipeline\n",
        "\n",
        "pipe = ExtractiveQAPipeline(reader, retriever)"
      ]
    },
    {
      "cell_type": "markdown",
      "metadata": {
        "id": "vJ0-3v-0B_a9"
      },
      "source": [
        "## Voilà! Ask a question!"
      ]
    },
    {
      "cell_type": "code",
      "execution_count": null,
      "metadata": {
        "colab": {
          "base_uri": "https://localhost:8080/"
        },
        "id": "aZJhfSMTOb_s",
        "outputId": "7ade6957-16d9-44c4-c70d-ad9ded52e11a"
      },
      "outputs": [],
      "source": [
        "# You can configure how many candidates the Reader and Retriever shall return\n",
        "# The higher top_k_retriever, the better (but also the slower) your answers.\n",
        "prediction = pipe.run(\n",
        "    query=\"artificial intelligence\", params={\"Retriever\": {\"top_k\": 100}, \"Reader\": {\"top_k\": 10}}\n",
        ")"
      ]
    },
    {
      "cell_type": "code",
      "execution_count": null,
      "metadata": {
        "colab": {
          "base_uri": "https://localhost:8080/"
        },
        "id": "minD1sYGB_a-",
        "outputId": "395fdebf-be3e-44d0-ef2b-b831f2331354",
        "pycharm": {
          "is_executing": false,
          "name": "#%%\n"
        }
      },
      "outputs": [],
      "source": [
        "from haystack.utils import print_answers\n",
        "\n",
        "# Change `minimum` to `medium` or `all` to raise the level of detail\n",
        "print_answers(prediction, details=\"all\")"
      ]
    },
    {
      "cell_type": "code",
      "execution_count": null,
      "metadata": {
        "colab": {
          "base_uri": "https://localhost:8080/"
        },
        "id": "7HXPg6hJB_a-",
        "outputId": "558e9906-70a1-434e-c9aa-d14e1481c4f8"
      },
      "outputs": [],
      "source": [
        "from pprint import pprint\n",
        "\n",
        "pprint(prediction)"
      ]
    },
    {
      "cell_type": "markdown",
      "metadata": {
        "id": "pF689-25eUd3"
      },
      "source": [
        "# Similar"
      ]
    },
    {
      "cell_type": "code",
      "execution_count": null,
      "metadata": {
        "colab": {
          "base_uri": "https://localhost:8080/",
          "height": 511
        },
        "id": "J4oQCdA6dySm",
        "outputId": "d1663433-3d68-41fc-e046-2d8ed2274a3e"
      },
      "outputs": [],
      "source": [
        "from haystack.nodes import DensePassageRetriever, JoinDocuments\n",
        "from haystack.pipelines import Pipeline\n",
        "dpr = DensePassageRetriever(\n",
        "  document_store=document_store,\n",
        "  query_embedding_model=\"facebook/dpr-question_encoder-single-nq-base\",\n",
        "  passage_embedding_model=\"facebook/dpr-ctx_encoder-single-nq-base\",\n",
        "  use_gpu=True,\n",
        ")\n",
        "\n",
        "document_store.update_embeddings(dpr)"
      ]
    },
    {
      "cell_type": "code",
      "execution_count": null,
      "metadata": {
        "colab": {
          "base_uri": "https://localhost:8080/"
        },
        "id": "EGhLoeXvip5c",
        "outputId": "fe32dbca-b50b-4a0e-e0ba-9aa5cb299043"
      },
      "outputs": [],
      "source": [
        "from haystack.pipelines import MostSimilarDocumentsPipeline\n",
        "mspipe = MostSimilarDocumentsPipeline(document_store=document_store)\n",
        "results = mspipe.run(document_ids=[\"162c7a1bf9dfeb9a306933936249c71d\"])\n",
        "pprint(results)"
      ]
    },
    {
      "cell_type": "code",
      "execution_count": null,
      "metadata": {
        "colab": {
          "base_uri": "https://localhost:8080/",
          "height": 340
        },
        "id": "ufwG-TkSe1Bd",
        "outputId": "67d5eb93-74e5-4bd2-941f-3b6c756d1809"
      },
      "outputs": [],
      "source": [
        "join_node = JoinDocuments(join_mode=\"merge\")\n",
        "p = Pipeline()\n",
        "p.add_node(component=dpr, name=\"R2\", inputs=[\"Query\"])\n",
        "p.add_node(component=pipe, name=\"R1\", inputs=[\"Query\"])\n",
        "p.add_node(component=join_node, name=\"Join\", inputs=[\"R1\", \"R2\"])"
      ]
    },
    {
      "cell_type": "code",
      "execution_count": null,
      "metadata": {
        "id": "JIscBLQng5wk"
      },
      "outputs": [],
      "source": [
        "query = \"Where does the sun rise?\"\n",
        "results = p.run(query=query)"
      ]
    }
  ],
  "metadata": {
    "accelerator": "GPU",
    "colab": {
      "provenance": []
    },
    "kernelspec": {
      "display_name": "Python 3.8.9 64-bit",
      "language": "python",
      "name": "python3"
    },
    "language_info": {
      "codemirror_mode": {
        "name": "ipython",
        "version": 3
      },
      "file_extension": ".py",
      "mimetype": "text/x-python",
      "name": "python",
      "nbconvert_exporter": "python",
      "pygments_lexer": "ipython3",
      "version": "3.8.9"
    }
  },
  "nbformat": 4,
  "nbformat_minor": 0
}
